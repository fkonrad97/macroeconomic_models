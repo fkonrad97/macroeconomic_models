{
  "nbformat": 4,
  "nbformat_minor": 0,
  "metadata": {
    "colab": {
      "provenance": [],
      "authorship_tag": "ABX9TyPv9UXT8Lqj7xdAY9igsK8G",
      "include_colab_link": true
    },
    "kernelspec": {
      "name": "python3",
      "display_name": "Python 3"
    },
    "language_info": {
      "name": "python"
    }
  },
  "cells": [
    {
      "cell_type": "markdown",
      "metadata": {
        "id": "view-in-github",
        "colab_type": "text"
      },
      "source": [
        "<a href=\"https://colab.research.google.com/github/fkonrad97/macroeconomic_models/blob/master/Sollow_Swan_model.ipynb\" target=\"_parent\"><img src=\"https://colab.research.google.com/assets/colab-badge.svg\" alt=\"Open In Colab\"/></a>"
      ]
    },
    {
      "cell_type": "markdown",
      "source": [
        "# *Assumptions*\n",
        "\n",
        "The model focuses on four variables:\n",
        "\n",
        "\n",
        "*   $Y$ - output\n",
        "*   $K$ - capital\n",
        "*   $L$ - labor\n",
        "*   $A$ - \"knowledge\" / \"effectiveness of labor\"\n",
        "\n",
        "The form of the production function is:\n",
        "\n",
        "\n",
        "---\n",
        "*   **$Y(t) = F(K(t), A(t)*L(t))$**\n",
        "---\n",
        "\n",
        "where *t* denotes the time.\n",
        "\n",
        "*The central assumptions of the Solow model concern the properties of the production function and the evolution of the three inputs into production (capital, labor, and the effectiveness of labor) over time.*\n",
        "\n",
        "\n",
        "---\n",
        "\n",
        "\n",
        "### *Assumptions about the production function*\n",
        "1.   **$F(cK,cAL)=cF(K,AL)$**, for all $c ≥ 0$. In other words, the production function has a constant returns to scale in its two arguments(capital, effective labor).\n",
        "2.   Inputs, other than the capital, labor and the effectiveness of labor are unimportant.\n",
        "\n",
        "*Intensive form* of the production function is:\n",
        "\n",
        "\n",
        "---\n",
        "\n",
        "\n",
        "**$F(\\frac{K}{AL}, 1)=\\frac{1}{AL}*F(K, AL)$**.\n",
        "\n",
        "\n",
        "\n",
        "---\n",
        ", **where $\\frac{K}{AL}$ is the amount of capital per unit of effective labor. $\\frac{F(\\frac{K}{AL})}{AL}$ equals to $\\frac{Y}{AL}$, output per unit of effective labor. Define $k=\\frac{K}{AL}$, $y=\\frac{Y}{AL}$ and $f(k)=F(k,1)$, then we can rewrite $y=f(k)$, which is the output per unit of effective labor as a function of capital per unit of effective labor.**\n",
        "\n",
        "The *intensive form* production function, $f(k)$, is assumed to satisfy $f(0)=0, f'(k) > 0, f''(k) < 0$.\n",
        "\n",
        "The marginal product of capital is: $[\\frac{\\partial F(K, AL)}{\\partial K}=ALf'(\\frac{K}{AL})(\\frac{1}{AL})]$, which is equals to $f'(k)$, thus the assumptions of the *intensive form* production function hold to the marginal product of capital as well. It implies that the marginal product of capital is positive, but then it declines as capital rises. *$\\text{(Inada conditions, 1964)}$*\n",
        "\n",
        "---\n",
        "\n",
        "### *Assumption about the inputs of the model over time*\n",
        "The initial levels of capital, labor and knowledge are taken as given and they are strictly positive. Labor and knowledge frow at constant rates:\n",
        "*  $\\dot{L}(t)=n*L(t)$, where $n$ is the growth rate\n",
        "*  $\\dot{A}(t)=g*L(A)$, where $g$ is the growth rate\n",
        "\n",
        "Output is divided between consumption and investment. This investment equals: $[Y(t) - C(t)]$, where $C$ denotes consumption. *One unit of investment yields one unit of new capital*. In addition, existing capital depreciates at rate $δ$.\n",
        "*  $\\dot{K}(t)=[Y(t) - C(t)] - δK(t)$, where $(n+g+δ)>0$.\n",
        "\n",
        "Since, the divisions between consumption and investment is given in the Solow model, we can denote it as $s$:\n",
        "* $\\dot{K}(t)=sY(t)-δK(y)$, where $s$ is the saving rate, which is constant and exogenous."
      ],
      "metadata": {
        "id": "l6hG1_2ab4Eg"
      }
    },
    {
      "cell_type": "markdown",
      "source": [
        "\n",
        "# *2. Determine the economy of the model*\n",
        "\n",
        "### *a) Dynamics of k*\n",
        "\n",
        "With chain rule:\n",
        "\n",
        "\n",
        "---\n",
        "\n",
        "\n",
        "\n",
        "---\n",
        "\n",
        "\n",
        "*   $\\dot{k}(t)=\\frac{∂\\dot{k}(t)}{\\partial t}=\\frac{\\partial(\\frac{K}{AL})}{\\partial t}=[sf(k(t))-(n+g+δ)k(t)]$\n",
        "\n",
        "---\n",
        "\n",
        "\n",
        "\n",
        "This equation is the key equation of the Solow model. Parts:\n",
        "*   **$sf(k)$** - actual investment per unit of effective labor,\n",
        "*   $(n+g+δ)k$ - breakeven investment, the amount of investment that must be done just to keep $k$ at its existing level.\n",
        "\n",
        "(Inada conditions)\n",
        "\n",
        "* *Denote where the value of $k$ (other than zero) where actual investment and break-even investment are equal as $k^{*}$ (Steady state)*. If $k$ is initially less than $k^{*}$, actual investment exceeds break-even investment, and so $\\dot{k}$ is positive-that is, $k$ is rising. If $k$ exceeds $k^{*}$, $\\dot{k}$ is negative. Finally, if $k$ equals $k^{*}$, then $\\dot{k}$ is zero. This, regardless of where $k$ starts, it converges to $k^{*}$ and remans there.\n"
      ],
      "metadata": {
        "id": "aTkGeeA0Nwqj"
      }
    },
    {
      "cell_type": "markdown",
      "source": [
        "# *3. Balanced Growth Path*\n",
        "\n",
        "Solow model implies that, regardless of its starting point, the economy converges to *balanced growth path*, a situation where each variable of the model is growing at constant rate. On the balanced growth path, the growth rate of output per worker is determined solely by the rate of technological progress."
      ],
      "metadata": {
        "id": "Boaz1T-HWLIk"
      }
    },
    {
      "cell_type": "markdown",
      "source": [
        "# *4. The impact of a change in the saving rate $(s)$*\n",
        "### *a) The Impact on Output*\n",
        "The increase in $s$ shifts the actual investment line upward, and so $k^{*}$ rises."
      ],
      "metadata": {
        "id": "rDzobLynXOf6"
      }
    },
    {
      "cell_type": "code",
      "source": [
        "class Sollow_Swan_Model:\n",
        "  def __init__(self):\n",
        "    self.data = []"
      ],
      "metadata": {
        "id": "6Jdi1U5AcelX"
      },
      "execution_count": 2,
      "outputs": []
    }
  ]
}