{
  "nbformat": 4,
  "nbformat_minor": 0,
  "metadata": {
    "colab": {
      "provenance": [],
      "authorship_tag": "ABX9TyNGwiLSIW9rUybS2ed8Hbp5",
      "include_colab_link": true
    },
    "kernelspec": {
      "name": "python3",
      "display_name": "Python 3"
    },
    "language_info": {
      "name": "python"
    }
  },
  "cells": [
    {
      "cell_type": "markdown",
      "metadata": {
        "id": "view-in-github",
        "colab_type": "text"
      },
      "source": [
        "<a href=\"https://colab.research.google.com/github/fkonrad97/macroeconomic_models/blob/master/Sollow_Swan_model.ipynb\" target=\"_parent\"><img src=\"https://colab.research.google.com/assets/colab-badge.svg\" alt=\"Open In Colab\"/></a>"
      ]
    },
    {
      "cell_type": "markdown",
      "source": [
        "# *Assumptions*\n",
        "\n",
        "The model focuses on four variables:\n",
        "\n",
        "\n",
        "*   Y - output\n",
        "*   K - capital\n",
        "*   L - labor\n",
        "*   A - \"knowledge\" / \"effectiveness of labor\"\n",
        "\n",
        "The form of the production function is:\n",
        "\n",
        "\n",
        "---\n",
        "*   **Y(t) = F(K(t), A(t)*L(t))**\n",
        "---\n",
        "\n",
        "where *t* denotes the time.\n",
        "\n",
        "*The central assumptions of the Solow model concern the properties of the production function and the evolution of the three inputs into production (capital, labor, and the effectiveness of labor) over time.*\n",
        "\n",
        "### *Assumptions about the production function*\n",
        "1.   **F(cK,cAL)=cF(K,AL)**, for all c >= 0. In other words, the production function has a constant returns to scale in its two arguments(capital, effective labor).\n",
        "2.   Inputs, other than the capital, labor and the effectiveness of labor are unimportant.\n",
        "\n",
        "- *Intensive form* of the production function is: **F(K/AL, 1)=(1/AL)*F(K, AL)**"
      ],
      "metadata": {
        "id": "l6hG1_2ab4Eg"
      }
    },
    {
      "cell_type": "code",
      "source": [],
      "metadata": {
        "id": "6Jdi1U5AcelX"
      },
      "execution_count": null,
      "outputs": []
    }
  ]
}